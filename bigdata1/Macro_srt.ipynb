{
 "cells": [
  {
   "cell_type": "code",
   "execution_count": null,
   "metadata": {},
   "outputs": [],
   "source": [
    "from selenium import webdriver\n",
    "from selenium.webdriver.common.by import By\n",
    "from selenium.webdriver.support.ui import WebDriverWait\n",
    "from selenium.webdriver.support import expected_conditions as EC\n",
    "from selenium import webdriver\n",
    "from selenium.webdriver.common.by import By\n",
    "from selenium.webdriver.support.select import Select"
   ]
  },
  {
   "cell_type": "code",
   "execution_count": 29,
   "metadata": {},
   "outputs": [],
   "source": [
    "# -*- coding: utf-8 -*-\n",
    "driver = webdriver.Chrome(\"chromedriver\")\n",
    "driver.get('https://etk.srail.co.kr/cmc/01/selectLoginForm.do')\n",
    "driver.implicitly_wait(15)\n",
    "\n",
    "# 로그인\n",
    "driver.find_element(By.ID, 'srchDvNm01').send_keys('2193390557') # 회원번호\n",
    "driver.find_element(By.ID, 'hmpgPwdCphd01').send_keys(\"happykeon00!!\") # 비밀번호\n",
    "driver.find_element(By.XPATH, '//*[@id=\"login-form\"]/fieldset/div[1]/div[1]/div[2]/div/div[2]/input').click()\n",
    "driver.implicitly_wait(5)\n",
    "\n",
    "# 기차 조회 페이지로 이동\n",
    "driver.get('https://etk.srail.kr/hpg/hra/01/selectScheduleList.do')\n",
    "driver.implicitly_wait(5)\n",
    "\n",
    "# 출발지 입력\n",
    "dep_stn = driver.find_element(By.ID, 'dptRsStnCdNm')\n",
    "dep_stn.clear()\n",
    "dep_stn.send_keys(\"동탄\")\n",
    "\n",
    "# 도착지 입력\n",
    "arr_stn = driver.find_element(By.ID, 'arvRsStnCdNm')\n",
    "arr_stn.clear()\n",
    "arr_stn.send_keys(\"수서\")\n",
    "\n",
    "# 출발 날짜\n",
    "elm_dptDt = driver.find_element(By.ID, \"dptDt\")\n",
    "driver.execute_script(\"arguments[0].setAttribute('style','display: True;')\", elm_dptDt)\n",
    "Select(driver.find_element(By.ID,\"dptDt\")).select_by_value(\"20221209\")\n",
    "\n",
    "# 출발 시간\n",
    "elm_dptTm = driver.find_element(By.ID, \"dptTm\")\n",
    "driver.execute_script(\"arguments[0].setAttribute('style','display: True;')\", elm_dptTm)\n",
    "Select(driver.find_element(By.ID, \"dptTm\")).select_by_visible_text(\"12\")\n",
    "\n",
    "# 조회하기 버튼 클릭\n",
    "driver.find_element(By.XPATH,\"//input[@value='조회하기']\").click()\n",
    "driver.implicitly_wait(5)"
   ]
  },
  {
   "cell_type": "code",
   "execution_count": 26,
   "metadata": {},
   "outputs": [],
   "source": [
    "train_list = driver.find_elements(By.CSS_SELECTOR, '#result-form > fieldset > div.tbl_wrap.th_thead > table > tbody > tr')\n"
   ]
  },
  {
   "cell_type": "code",
   "execution_count": 27,
   "metadata": {},
   "outputs": [
    {
     "name": "stdout",
     "output_type": "stream",
     "text": [
      "328동탄 13:08수서 13:25예약하기 좌석선택예약하기 좌석선택\n",
      "612동탄 14:20수서 14:37예약하기 좌석선택예약하기 좌석선택\n",
      "332동탄 14:58수서 15:15예약하기 좌석선택예약하기 좌석선택\n",
      "660동탄 16:20수서 16:37예약하기 좌석선택예약하기 좌석선택\n",
      "340동탄 16:29수서 16:46예약하기 좌석선택예약하기 좌석선택\n",
      "342동탄 16:50수서 17:07예약하기 좌석선택예약하기 좌석선택\n",
      "614동탄 17:19수서 17:36매진예약하기 좌석선택\n",
      "348동탄 17:52수서 18:09예약하기 좌석선택예약하기 좌석선택\n",
      "350동탄 18:01수서 18:18예약하기 좌석선택예약하기 좌석선택\n",
      "616동탄 18:15수서 18:32예약하기 좌석선택예약하기 좌석선택\n"
     ]
    }
   ],
   "source": [
    "for i in range(1, len(train_list)+1):\n",
    "    for j in range(3, 8):\n",
    "        text = driver.find_element(By.CSS_SELECTOR, f\"#result-form > fieldset > div.tbl_wrap.th_thead > table > tbody > tr:nth-child({i}) > td:nth-child({j})\").text.replace(\"\\n\",\" \")\n",
    "        print(text, end=\"\")\n",
    "    print()"
   ]
  },
  {
   "cell_type": "code",
   "execution_count": null,
   "metadata": {},
   "outputs": [],
   "source": [
    "#result-form > fieldset > div.tbl_wrap.th_thead > table > tbody > tr:nth-child(7) > td:nth-child(6) > a"
   ]
  },
  {
   "cell_type": "code",
   "execution_count": 22,
   "metadata": {},
   "outputs": [],
   "source": []
  },
  {
   "cell_type": "code",
   "execution_count": 38,
   "metadata": {},
   "outputs": [
    {
     "name": "stdout",
     "output_type": "stream",
     "text": [
      "새로고침\n",
      "새로고침\n",
      "새로고침\n",
      "새로고침\n",
      "새로고침\n",
      "새로고침\n",
      "새로고침\n",
      "새로고침\n",
      "새로고침\n",
      "새로고침\n",
      "새로고침\n",
      "새로고침\n",
      "새로고침\n",
      "새로고침\n",
      "새로고침\n",
      "새로고침\n",
      "새로고침\n",
      "새로고침\n",
      "새로고침\n",
      "새로고침\n",
      "새로고침\n",
      "새로고침\n",
      "새로고침\n",
      "새로고침\n",
      "새로고침\n",
      "새로고침\n",
      "새로고침\n",
      "새로고침\n",
      "새로고침\n",
      "새로고침\n",
      "새로고침\n",
      "새로고침\n",
      "새로고침\n",
      "새로고침\n",
      "새로고침\n",
      "새로고침\n",
      "새로고침\n",
      "새로고침\n",
      "새로고침\n",
      "새로고침\n",
      "새로고침\n",
      "새로고침\n",
      "새로고침\n",
      "새로고침\n",
      "새로고침\n",
      "새로고침\n",
      "새로고침\n",
      "새로고침\n",
      "새로고침\n",
      "새로고침\n",
      "새로고침\n",
      "새로고침\n",
      "새로고침\n",
      "새로고침\n",
      "새로고침\n",
      "새로고침\n",
      "새로고침\n",
      "새로고침\n",
      "새로고침\n",
      "새로고침\n",
      "새로고침\n",
      "새로고침\n",
      "새로고침\n",
      "새로고침\n",
      "새로고침\n",
      "새로고침\n",
      "새로고침\n",
      "새로고침\n",
      "새로고침\n",
      "새로고침\n",
      "새로고침\n",
      "새로고침\n",
      "새로고침\n",
      "새로고침\n",
      "새로고침\n",
      "새로고침\n",
      "새로고침\n",
      "새로고침\n",
      "새로고침\n",
      "새로고침\n",
      "새로고침\n",
      "새로고침\n",
      "새로고침\n",
      "새로고침\n",
      "새로고침\n",
      "새로고침\n",
      "새로고침\n",
      "새로고침\n",
      "새로고침\n",
      "새로고침\n",
      "새로고침\n",
      "새로고침\n",
      "새로고침\n",
      "새로고침\n",
      "새로고침\n",
      "새로고침\n",
      "새로고침\n",
      "새로고침\n",
      "새로고침\n",
      "새로고침\n",
      "새로고침\n",
      "새로고침\n",
      "새로고침\n"
     ]
    },
    {
     "ename": "KeyboardInterrupt",
     "evalue": "",
     "output_type": "error",
     "traceback": [
      "\u001b[1;31m---------------------------------------------------------------------------\u001b[0m",
      "\u001b[1;31mKeyboardInterrupt\u001b[0m                         Traceback (most recent call last)",
      "Cell \u001b[1;32mIn[38], line 27\u001b[0m\n\u001b[0;32m     23\u001b[0m     \u001b[39m# submit = driver.find_element(By.XPATH, \"/html/body/div/div[4]/div/div[2]/form/fieldset/div[2]/input\").click()\u001b[39;00m\n\u001b[0;32m     24\u001b[0m     \u001b[39m# print(\"새로고침\")\u001b[39;00m\n\u001b[0;32m     26\u001b[0m     driver\u001b[39m.\u001b[39mimplicitly_wait(\u001b[39m10\u001b[39m)\n\u001b[1;32m---> 27\u001b[0m     time\u001b[39m.\u001b[39;49msleep(\u001b[39m1\u001b[39;49m)\n\u001b[0;32m     28\u001b[0m \u001b[39melse\u001b[39;00m:\n\u001b[0;32m     29\u001b[0m     \u001b[39mbreak\u001b[39;00m\n",
      "\u001b[1;31mKeyboardInterrupt\u001b[0m: "
     ]
    }
   ],
   "source": [
    "import time\n",
    "\n",
    "reserved = False\n",
    "\n",
    "while True:\n",
    "    standard_seat = driver.find_element(By.CSS_SELECTOR, \"#result-form > fieldset > div.tbl_wrap.th_thead > table > tbody > tr:nth-child(7) > td:nth-child(6) > a\").text\n",
    "\n",
    "    if \"예약하기\" in standard_seat:\n",
    "        print(\"예약 가능\")       \n",
    "        driver.find_element(By.XPATH, \"#result-form > fieldset > div.tbl_wrap.th_thead > table > tbody > tr:nth-child(7) > td:nth-child(6) > a\").click()\n",
    "        reserved = True\n",
    "        break\n",
    "\n",
    "    if not reserved:\n",
    "        # 5초 기다리기\n",
    "        WebDriverWait(driver, 5).until(EC.element_to_be_clickable((By.XPATH,\"/html/body/div/div[4]/div/div[3]/div[1]/form/fieldset/div[6]/table/tbody/tr[7]/td[7]/a\" )))\n",
    "\n",
    "        \n",
    "        # 다시 조회하기\n",
    "        submit = driver.find_element(By.XPATH, \"//input[@value='조회하기']\")\n",
    "        driver.execute_script(\"arguments[0].click();\", submit)\n",
    "        print(\"새로고침\")\n",
    "        # submit = driver.find_element(By.XPATH, \"/html/body/div/div[4]/div/div[2]/form/fieldset/div[2]/input\").click()\n",
    "        # print(\"새로고침\")\n",
    "\n",
    "        driver.implicitly_wait(10)\n",
    "        time.sleep(1)\n",
    "    else:\n",
    "        break\n"
   ]
  },
  {
   "cell_type": "code",
   "execution_count": 37,
   "metadata": {},
   "outputs": [
    {
     "ename": "KeyboardInterrupt",
     "evalue": "",
     "output_type": "error",
     "traceback": [
      "\u001b[1;31m---------------------------------------------------------------------------\u001b[0m",
      "\u001b[1;31mKeyboardInterrupt\u001b[0m                         Traceback (most recent call last)",
      "Cell \u001b[1;32mIn[37], line 16\u001b[0m\n\u001b[0;32m     12\u001b[0m     \u001b[39mbreak\u001b[39;00m\n\u001b[0;32m     14\u001b[0m \u001b[39mif\u001b[39;00m \u001b[39mnot\u001b[39;00m reserved:\n\u001b[0;32m     15\u001b[0m     \u001b[39m# 5초 기다리기\u001b[39;00m\n\u001b[1;32m---> 16\u001b[0m     time\u001b[39m.\u001b[39;49msleep(\u001b[39m5\u001b[39;49m)\n\u001b[0;32m     18\u001b[0m     \u001b[39m# 다시 조회하기\u001b[39;00m\n\u001b[0;32m     21\u001b[0m     driver\u001b[39m.\u001b[39mimplicitly_wait(\u001b[39m10\u001b[39m)\n",
      "\u001b[1;31mKeyboardInterrupt\u001b[0m: "
     ]
    }
   ],
   "source": [
    "import time\n",
    "\n",
    "reserved = False\n",
    "\n",
    "while True:\n",
    "    standard_seat = driver.find_element(By.CSS_SELECTOR, \"#result-form > fieldset > div.tbl_wrap.th_thead > table > tbody > tr:nth-child(7) > td:nth-child(6) > a\").text\n",
    "\n",
    "    if \"예약하기\" in standard_seat:\n",
    "        print(\"예약 가능\")       \n",
    "        driver.find_element(By.XPATH, \"#result-form > fieldset > div.tbl_wrap.th_thead > table > tbody > tr:nth-child(7) > td:nth-child(6) > a\").click()\n",
    "        reserved = True\n",
    "        break\n",
    "\n",
    "    if not reserved:\n",
    "        # 5초 기다리기\n",
    "        time.sleep(5)\n",
    "        \n",
    "        # 다시 조회하기\n",
    "        \n",
    "\n",
    "        driver.implicitly_wait(10)\n",
    "        time.sleep(1)\n",
    "    else:\n",
    "        break"
   ]
  }
 ],
 "metadata": {
  "kernelspec": {
   "display_name": "Python 3.9.13 ('base')",
   "language": "python",
   "name": "python3"
  },
  "language_info": {
   "codemirror_mode": {
    "name": "ipython",
    "version": 3
   },
   "file_extension": ".py",
   "mimetype": "text/x-python",
   "name": "python",
   "nbconvert_exporter": "python",
   "pygments_lexer": "ipython3",
   "version": "3.9.13"
  },
  "orig_nbformat": 4,
  "vscode": {
   "interpreter": {
    "hash": "ad2bdc8ecc057115af97d19610ffacc2b4e99fae6737bb82f5d7fb13d2f2c186"
   }
  }
 },
 "nbformat": 4,
 "nbformat_minor": 2
}
