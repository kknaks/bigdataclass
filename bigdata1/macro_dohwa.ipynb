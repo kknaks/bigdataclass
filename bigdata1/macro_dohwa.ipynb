{
 "cells": [
  {
   "cell_type": "code",
   "execution_count": 64,
   "metadata": {},
   "outputs": [
    {
     "name": "stderr",
     "output_type": "stream",
     "text": [
      "C:\\Users\\admin\\AppData\\Local\\Temp\\ipykernel_6940\\1809207170.py:7: DeprecationWarning: executable_path has been deprecated, please pass in a Service object\n",
      "  driver = webdriver.Chrome(executable_path='./utils/chromedriver') # executable_path: chromedriver path\n"
     ]
    }
   ],
   "source": [
    "from selenium import webdriver\n",
    "from selenium.webdriver.common.by import By\n",
    "from selenium.webdriver.support.ui import WebDriverWait\n",
    "from selenium.webdriver.support import expected_conditions as EC\n",
    "from selenium.webdriver.common.alert import Alert\n",
    "\n",
    "driver = webdriver.Chrome(executable_path='./utils/chromedriver') # executable_path: chromedriver path"
   ]
  },
  {
   "cell_type": "code",
   "execution_count": 65,
   "metadata": {},
   "outputs": [],
   "source": [
    "driver.get(url = 'https://gw.dohwa.co.kr/ekp/view/login/userLogin#')\n",
    "driver.maximize_window()"
   ]
  },
  {
   "cell_type": "code",
   "execution_count": 66,
   "metadata": {},
   "outputs": [],
   "source": [
    "(\n",
    "    driver.find_element(\n",
    "        By.XPATH, \n",
    "        '/html/body/div[1]/div/div[2]/div[2]/div[2]/fieldset/div[1]/dl[3]/dd[1]/span/input'\n",
    "        ).send_keys('221009')\n",
    ")"
   ]
  },
  {
   "cell_type": "code",
   "execution_count": 67,
   "metadata": {},
   "outputs": [],
   "source": [
    "(\n",
    "    driver.find_element(\n",
    "        By.XPATH, \n",
    "        '/html/body/div[1]/div/div[2]/div[2]/div[2]/fieldset/div[1]/dl[3]/dd[2]/div/input'\n",
    "        ).send_keys('rjskr03#')\n",
    ")"
   ]
  },
  {
   "cell_type": "code",
   "execution_count": 68,
   "metadata": {},
   "outputs": [],
   "source": [
    "(\n",
    "    driver.find_element(\n",
    "        By.XPATH, \n",
    "        '/html/body/div[1]/div/div[2]/div[2]/div[2]/fieldset/div[1]/div/button'\n",
    "        ).click()\n",
    ")"
   ]
  },
  {
   "cell_type": "code",
   "execution_count": 69,
   "metadata": {},
   "outputs": [],
   "source": [
    "#웨이팅 필요\n",
    "\n",
    "da = Alert(driver)\n",
    "da.accept()"
   ]
  },
  {
   "cell_type": "code",
   "execution_count": 70,
   "metadata": {},
   "outputs": [],
   "source": [
    "#웨이팅 필요\n",
    "(\n",
    "    driver.find_element(\n",
    "        By.XPATH, \n",
    "        '/html/body/div[1]/div[1]/div[2]/div[1]/div[2]/ul/li[7]/a'\n",
    "        ).click()\n",
    ")"
   ]
  },
  {
   "cell_type": "code",
   "execution_count": 78,
   "metadata": {},
   "outputs": [
    {
     "ename": "NoSuchElementException",
     "evalue": "Message: no such element: Unable to locate element: {\"method\":\"xpath\",\"selector\":\"/html/body/div/div/div/div[1]/div[2]/div[3]/div/div\"}\n  (Session info: chrome=108.0.5359.72)\nStacktrace:\nBacktrace:\n\t(No symbol) [0x0050F243]\n\t(No symbol) [0x00497FD1]\n\t(No symbol) [0x0038D04D]\n\t(No symbol) [0x003BC0B0]\n\t(No symbol) [0x003BC22B]\n\t(No symbol) [0x003EE612]\n\t(No symbol) [0x003D85D4]\n\t(No symbol) [0x003EC9EB]\n\t(No symbol) [0x003D8386]\n\t(No symbol) [0x003B163C]\n\t(No symbol) [0x003B269D]\n\tGetHandleVerifier [0x007A9A22+2655074]\n\tGetHandleVerifier [0x0079CA24+2601828]\n\tGetHandleVerifier [0x005B8C0A+619850]\n\tGetHandleVerifier [0x005B7830+614768]\n\t(No symbol) [0x004A05FC]\n\t(No symbol) [0x004A5968]\n\t(No symbol) [0x004A5A55]\n\t(No symbol) [0x004B051B]\n\tBaseThreadInitThunk [0x77336739+25]\n\tRtlGetFullPathName_UEx [0x77C78FD2+1218]\n\tRtlGetFullPathName_UEx [0x77C78F9D+1165]\n",
     "output_type": "error",
     "traceback": [
      "\u001b[1;31m---------------------------------------------------------------------------\u001b[0m",
      "\u001b[1;31mNoSuchElementException\u001b[0m                    Traceback (most recent call last)",
      "Cell \u001b[1;32mIn[78], line 2\u001b[0m\n\u001b[0;32m      1\u001b[0m (\n\u001b[1;32m----> 2\u001b[0m     driver\u001b[39m.\u001b[39;49mfind_element(\n\u001b[0;32m      3\u001b[0m         By\u001b[39m.\u001b[39;49mXPATH, \n\u001b[0;32m      4\u001b[0m         \u001b[39m'\u001b[39;49m\u001b[39m/html/body/div/div/div/div[1]/div[2]/div[3]/div/div\u001b[39;49m\u001b[39m'\u001b[39;49m\n\u001b[0;32m      5\u001b[0m         )\u001b[39m.\u001b[39mclick()\n\u001b[0;32m      6\u001b[0m )\n",
      "File \u001b[1;32mc:\\Users\\admin\\AppData\\Local\\Programs\\Python\\Python311\\Lib\\site-packages\\selenium\\webdriver\\remote\\webdriver.py:861\u001b[0m, in \u001b[0;36mWebDriver.find_element\u001b[1;34m(self, by, value)\u001b[0m\n\u001b[0;32m    858\u001b[0m     by \u001b[39m=\u001b[39m By\u001b[39m.\u001b[39mCSS_SELECTOR\n\u001b[0;32m    859\u001b[0m     value \u001b[39m=\u001b[39m \u001b[39m'\u001b[39m\u001b[39m[name=\u001b[39m\u001b[39m\"\u001b[39m\u001b[39m%s\u001b[39;00m\u001b[39m\"\u001b[39m\u001b[39m]\u001b[39m\u001b[39m'\u001b[39m \u001b[39m%\u001b[39m value\n\u001b[1;32m--> 861\u001b[0m \u001b[39mreturn\u001b[39;00m \u001b[39mself\u001b[39;49m\u001b[39m.\u001b[39;49mexecute(Command\u001b[39m.\u001b[39;49mFIND_ELEMENT, {\u001b[39m\"\u001b[39;49m\u001b[39musing\u001b[39;49m\u001b[39m\"\u001b[39;49m: by, \u001b[39m\"\u001b[39;49m\u001b[39mvalue\u001b[39;49m\u001b[39m\"\u001b[39;49m: value})[\u001b[39m\"\u001b[39m\u001b[39mvalue\u001b[39m\u001b[39m\"\u001b[39m]\n",
      "File \u001b[1;32mc:\\Users\\admin\\AppData\\Local\\Programs\\Python\\Python311\\Lib\\site-packages\\selenium\\webdriver\\remote\\webdriver.py:444\u001b[0m, in \u001b[0;36mWebDriver.execute\u001b[1;34m(self, driver_command, params)\u001b[0m\n\u001b[0;32m    442\u001b[0m response \u001b[39m=\u001b[39m \u001b[39mself\u001b[39m\u001b[39m.\u001b[39mcommand_executor\u001b[39m.\u001b[39mexecute(driver_command, params)\n\u001b[0;32m    443\u001b[0m \u001b[39mif\u001b[39;00m response:\n\u001b[1;32m--> 444\u001b[0m     \u001b[39mself\u001b[39;49m\u001b[39m.\u001b[39;49merror_handler\u001b[39m.\u001b[39;49mcheck_response(response)\n\u001b[0;32m    445\u001b[0m     response[\u001b[39m\"\u001b[39m\u001b[39mvalue\u001b[39m\u001b[39m\"\u001b[39m] \u001b[39m=\u001b[39m \u001b[39mself\u001b[39m\u001b[39m.\u001b[39m_unwrap_value(response\u001b[39m.\u001b[39mget(\u001b[39m\"\u001b[39m\u001b[39mvalue\u001b[39m\u001b[39m\"\u001b[39m, \u001b[39mNone\u001b[39;00m))\n\u001b[0;32m    446\u001b[0m     \u001b[39mreturn\u001b[39;00m response\n",
      "File \u001b[1;32mc:\\Users\\admin\\AppData\\Local\\Programs\\Python\\Python311\\Lib\\site-packages\\selenium\\webdriver\\remote\\errorhandler.py:249\u001b[0m, in \u001b[0;36mErrorHandler.check_response\u001b[1;34m(self, response)\u001b[0m\n\u001b[0;32m    247\u001b[0m         alert_text \u001b[39m=\u001b[39m value[\u001b[39m\"\u001b[39m\u001b[39malert\u001b[39m\u001b[39m\"\u001b[39m]\u001b[39m.\u001b[39mget(\u001b[39m\"\u001b[39m\u001b[39mtext\u001b[39m\u001b[39m\"\u001b[39m)\n\u001b[0;32m    248\u001b[0m     \u001b[39mraise\u001b[39;00m exception_class(message, screen, stacktrace, alert_text)  \u001b[39m# type: ignore[call-arg]  # mypy is not smart enough here\u001b[39;00m\n\u001b[1;32m--> 249\u001b[0m \u001b[39mraise\u001b[39;00m exception_class(message, screen, stacktrace)\n",
      "\u001b[1;31mNoSuchElementException\u001b[0m: Message: no such element: Unable to locate element: {\"method\":\"xpath\",\"selector\":\"/html/body/div/div/div/div[1]/div[2]/div[3]/div/div\"}\n  (Session info: chrome=108.0.5359.72)\nStacktrace:\nBacktrace:\n\t(No symbol) [0x0050F243]\n\t(No symbol) [0x00497FD1]\n\t(No symbol) [0x0038D04D]\n\t(No symbol) [0x003BC0B0]\n\t(No symbol) [0x003BC22B]\n\t(No symbol) [0x003EE612]\n\t(No symbol) [0x003D85D4]\n\t(No symbol) [0x003EC9EB]\n\t(No symbol) [0x003D8386]\n\t(No symbol) [0x003B163C]\n\t(No symbol) [0x003B269D]\n\tGetHandleVerifier [0x007A9A22+2655074]\n\tGetHandleVerifier [0x0079CA24+2601828]\n\tGetHandleVerifier [0x005B8C0A+619850]\n\tGetHandleVerifier [0x005B7830+614768]\n\t(No symbol) [0x004A05FC]\n\t(No symbol) [0x004A5968]\n\t(No symbol) [0x004A5A55]\n\t(No symbol) [0x004B051B]\n\tBaseThreadInitThunk [0x77336739+25]\n\tRtlGetFullPathName_UEx [0x77C78FD2+1218]\n\tRtlGetFullPathName_UEx [0x77C78F9D+1165]\n"
     ]
    }
   ],
   "source": [
    "(\n",
    "    driver.find_element(\n",
    "        By.XPATH, \n",
    "        '/html/body/div/div/div/div[1]/div[2]/div[3]/div/div'\n",
    "        ).click()\n",
    ")"
   ]
  },
  {
   "cell_type": "code",
   "execution_count": null,
   "metadata": {},
   "outputs": [],
   "source": []
  }
 ],
 "metadata": {
  "kernelspec": {
   "display_name": "Python 3.11.0 64-bit",
   "language": "python",
   "name": "python3"
  },
  "language_info": {
   "codemirror_mode": {
    "name": "ipython",
    "version": 3
   },
   "file_extension": ".py",
   "mimetype": "text/x-python",
   "name": "python",
   "nbconvert_exporter": "python",
   "pygments_lexer": "ipython3",
   "version": "3.11.0"
  },
  "orig_nbformat": 4,
  "vscode": {
   "interpreter": {
    "hash": "1682e5d06a6d97c1b1cf6bb4ae6cf16223e994936ddb1d53664597d7d46101fa"
   }
  }
 },
 "nbformat": 4,
 "nbformat_minor": 2
}
