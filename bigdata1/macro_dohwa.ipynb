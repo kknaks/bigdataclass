{
 "cells": [
  {
   "cell_type": "code",
   "execution_count": 1,
   "metadata": {},
   "outputs": [
    {
     "name": "stderr",
     "output_type": "stream",
     "text": [
      "C:\\Users\\admin\\AppData\\Local\\Temp\\ipykernel_29904\\1809207170.py:7: DeprecationWarning: executable_path has been deprecated, please pass in a Service object\n",
      "  driver = webdriver.Chrome(executable_path='./utils/chromedriver') # executable_path: chromedriver path\n"
     ]
    }
   ],
   "source": [
    "from selenium import webdriver\n",
    "from selenium.webdriver.common.by import By\n",
    "from selenium.webdriver.support.ui import WebDriverWait\n",
    "from selenium.webdriver.support import expected_conditions as EC\n",
    "from selenium.webdriver.common.alert import Alert\n",
    "\n",
    "driver = webdriver.Chrome(executable_path='./utils/chromedriver') # executable_path: chromedriver path"
   ]
  },
  {
   "cell_type": "code",
   "execution_count": 2,
   "metadata": {},
   "outputs": [],
   "source": [
    "driver.get(url = 'https://gw.dohwa.co.kr/ekp/view/login/userLogin#')\n",
    "driver.maximize_window()"
   ]
  },
  {
   "cell_type": "code",
   "execution_count": 3,
   "metadata": {},
   "outputs": [],
   "source": [
    "(\n",
    "    driver.find_element(\n",
    "        By.XPATH, \n",
    "        '/html/body/div[1]/div/div[2]/div[2]/div[2]/fieldset/div[1]/dl[3]/dd[1]/span/input'\n",
    "        ).send_keys('221009')\n",
    ")"
   ]
  },
  {
   "cell_type": "code",
   "execution_count": 4,
   "metadata": {},
   "outputs": [],
   "source": [
    "(\n",
    "    driver.find_element(\n",
    "        By.XPATH, \n",
    "        '/html/body/div[1]/div/div[2]/div[2]/div[2]/fieldset/div[1]/dl[3]/dd[2]/div/input'\n",
    "        ).send_keys('rjskr03#')\n",
    ")"
   ]
  },
  {
   "cell_type": "code",
   "execution_count": 5,
   "metadata": {},
   "outputs": [],
   "source": [
    "(\n",
    "    driver.find_element(\n",
    "        By.XPATH, \n",
    "        '/html/body/div[1]/div/div[2]/div[2]/div[2]/fieldset/div[1]/div/button'\n",
    "        ).click()\n",
    ")"
   ]
  },
  {
   "cell_type": "code",
   "execution_count": 6,
   "metadata": {},
   "outputs": [],
   "source": [
    "#웨이팅 필요\n",
    "\n",
    "da = Alert(driver)\n",
    "da.accept()"
   ]
  },
  {
   "cell_type": "code",
   "execution_count": 7,
   "metadata": {},
   "outputs": [],
   "source": [
    "#웨이팅 필요\n",
    "(\n",
    "    driver.find_element(\n",
    "        By.XPATH, \n",
    "        '/html/body/div[1]/div[1]/div[2]/div[1]/div[2]/ul/li[7]/a'\n",
    "        ).click()\n",
    ")"
   ]
  },
  {
   "cell_type": "code",
   "execution_count": 19,
   "metadata": {},
   "outputs": [],
   "source": [
    "driver.switch_to.frame('subBody')"
   ]
  },
  {
   "cell_type": "code",
   "execution_count": 20,
   "metadata": {},
   "outputs": [],
   "source": [
    "(\n",
    "    driver.find_element(\n",
    "        By.XPATH, \n",
    "        '/html/body/div/div/div/div[1]/div[2]/div[3]/ul/li[2]/div/a'\n",
    "        ).click()\n",
    ")"
   ]
  },
  {
   "cell_type": "code",
   "execution_count": 27,
   "metadata": {},
   "outputs": [
    {
     "name": "stderr",
     "output_type": "stream",
     "text": [
      "C:\\Users\\admin\\AppData\\Local\\Temp\\ipykernel_29904\\1357943733.py:7: DeprecationWarning: executable_path has been deprecated, please pass in a Service object\n",
      "  driver = webdriver.Chrome(executable_path='./utils/chromedriver') # executable_path: chromedriver path\n"
     ]
    }
   ],
   "source": [
    "from selenium import webdriver\n",
    "from selenium.webdriver.common.by import By\n",
    "from selenium.webdriver.support.ui import WebDriverWait\n",
    "from selenium.webdriver.support import expected_conditions as EC\n",
    "from selenium.webdriver.common.alert import Alert\n",
    "from time import sleep\n",
    "driver = webdriver.Chrome(executable_path='./utils/chromedriver') # executable_path: chromedriver path\n",
    "\n",
    "driver.get(url = 'https://gw.dohwa.co.kr/ekp/view/login/userLogin#')\n",
    "driver.maximize_window()\n",
    "\n",
    "(\n",
    "    driver.find_element(\n",
    "        By.XPATH, \n",
    "        '/html/body/div[1]/div/div[2]/div[2]/div[2]/fieldset/div[1]/dl[3]/dd[1]/span/input'\n",
    "        ).send_keys('221009')\n",
    ")\n",
    "\n",
    "(\n",
    "    driver.find_element(\n",
    "        By.XPATH, \n",
    "        '/html/body/div[1]/div/div[2]/div[2]/div[2]/fieldset/div[1]/dl[3]/dd[2]/div/input'\n",
    "        ).send_keys('rjskr03#')\n",
    ")\n",
    "\n",
    "(\n",
    "    driver.find_element(\n",
    "        By.XPATH, \n",
    "        '/html/body/div[1]/div/div[2]/div[2]/div[2]/fieldset/div[1]/div/button'\n",
    "        ).click()\n",
    ")\n",
    "\n",
    "sleep(1)\n",
    "\n",
    "da = Alert(driver)\n",
    "da.accept()\n",
    "\n",
    "(\n",
    "    WebDriverWait(driver, 10)\n",
    "    .until(EC.element_to_be_clickable\n",
    "    ((\n",
    "        By.XPATH\n",
    "        ,'/html/body/div[1]/div[1]/div[2]/div[1]/div[2]/ul/li[7]/a'))\n",
    "        )\n",
    "        )\n",
    "\n",
    "(\n",
    "    driver.find_element(\n",
    "        By.XPATH, \n",
    "        '/html/body/div[1]/div[1]/div[2]/div[1]/div[2]/ul/li[7]/a'\n",
    "        ).click()\n",
    ")\n",
    "\n",
    "sleep(1)\n",
    "\n",
    "driver.switch_to.frame('subBody')\n",
    "\n",
    "(\n",
    "    driver.find_element(\n",
    "        By.XPATH, \n",
    "        '/html/body/div/div/div/div[1]/div[2]/div[3]/ul/li[2]/div/a'\n",
    "        ).click()\n",
    ")\n"
   ]
  },
  {
   "cell_type": "code",
   "execution_count": 23,
   "metadata": {},
   "outputs": [],
   "source": [
    "driver.switch_to.frame('subBody')\n",
    "\n"
   ]
  },
  {
   "cell_type": "code",
   "execution_count": 24,
   "metadata": {},
   "outputs": [],
   "source": [
    "(\n",
    "    driver.find_element(\n",
    "        By.XPATH, \n",
    "        '/html/body/div/div/div/div[1]/div[2]/div[3]/ul/li[2]/div/a'\n",
    "        ).click()\n",
    ")"
   ]
  },
  {
   "cell_type": "code",
   "execution_count": 28,
   "metadata": {},
   "outputs": [],
   "source": [
    "# -*- coding: utf-8 -*-\n",
    "from selenium import webdriver\n",
    "from selenium.webdriver.common.by import By\n",
    "from selenium.webdriver.support.select import Select\n",
    "\n",
    "\n",
    "driver = webdriver.Chrome(\"chromedriver\")\n",
    "driver.get('https://etk.srail.co.kr/cmc/01/selectLoginForm.do')\n",
    "driver.implicitly_wait(15)\n",
    "\n",
    "# 로그인\n",
    "driver.find_element(By.ID, 'srchDvNm01').send_keys('2193390557') # 회원번호\n",
    "driver.find_element(By.ID, 'hmpgPwdCphd01').send_keys(\"happykeon00!!\") # 비밀번호\n",
    "driver.find_element(By.XPATH, '//*[@id=\"login-form\"]/fieldset/div[1]/div[1]/div[2]/div/div[2]/input').click()\n",
    "driver.implicitly_wait(5)\n",
    "\n",
    "# 기차 조회 페이지로 이동\n",
    "driver.get('https://etk.srail.kr/hpg/hra/01/selectScheduleList.do')\n",
    "driver.implicitly_wait(5)\n",
    "\n",
    "# 출발지 입력\n",
    "dep_stn = driver.find_element(By.ID, 'dptRsStnCdNm')\n",
    "dep_stn.clear()\n",
    "dep_stn.send_keys(\"동탄\")\n",
    "\n",
    "# 도착지 입력\n",
    "arr_stn = driver.find_element(By.ID, 'arvRsStnCdNm')\n",
    "arr_stn.clear()\n",
    "arr_stn.send_keys(\"수서\")\n",
    "\n",
    "# 출발 날짜\n",
    "elm_dptDt = driver.find_element(By.ID, \"dptDt\")\n",
    "driver.execute_script(\"arguments[0].setAttribute('style','display: True;')\", elm_dptDt)\n",
    "Select(driver.find_element(By.ID,\"dptDt\")).select_by_value(\"20221207\")\n",
    "\n",
    "# 출발 시간\n",
    "elm_dptTm = driver.find_element(By.ID, \"dptTm\")\n",
    "driver.execute_script(\"arguments[0].setAttribute('style','display: True;')\", elm_dptTm)\n",
    "Select(driver.find_element(By.ID, \"dptTm\")).select_by_visible_text(\"12\")\n",
    "\n",
    "# 조회하기 버튼 클릭\n",
    "driver.find_element(By.XPATH,\"//input[@value='조회하기']\").click()\n",
    "driver.implicitly_wait(5)\n",
    "\n"
   ]
  },
  {
   "cell_type": "code",
   "execution_count": null,
   "metadata": {},
   "outputs": [],
   "source": []
  },
  {
   "cell_type": "code",
   "execution_count": 6,
   "metadata": {},
   "outputs": [],
   "source": [
    "\n",
    "\n",
    "driver.find_element(By.XPATH,\"/html/body/div/div[4]/div/div[3]/div[1]/form/fieldset/div[6]/table/tbody/tr[1]/td[7]/a\").click()\n"
   ]
  },
  {
   "cell_type": "code",
   "execution_count": 7,
   "metadata": {},
   "outputs": [],
   "source": [
    "\n",
    "driver.find_element(By.XPATH,'/html/body/div/div[4]/div/div[2]/form/fieldset/div[11]/a[1]').click()\n",
    "\n",
    "/html/body/div/div[4]/div/div[3]/div[1]/form/fieldset/div[6]/table/tbody/tr[4]/td[7]/a\n",
    "/html/body/div/div[4]/div/div[3]/div[1]/form/fieldset/div[6]/table/tbody/tr[4]/td[6]/a"
   ]
  }
 ],
 "metadata": {
  "kernelspec": {
   "display_name": "Python 3.11.0 64-bit",
   "language": "python",
   "name": "python3"
  },
  "language_info": {
   "codemirror_mode": {
    "name": "ipython",
    "version": 3
   },
   "file_extension": ".py",
   "mimetype": "text/x-python",
   "name": "python",
   "nbconvert_exporter": "python",
   "pygments_lexer": "ipython3",
   "version": "3.11.0"
  },
  "orig_nbformat": 4,
  "vscode": {
   "interpreter": {
    "hash": "1682e5d06a6d97c1b1cf6bb4ae6cf16223e994936ddb1d53664597d7d46101fa"
   }
  }
 },
 "nbformat": 4,
 "nbformat_minor": 2
}
