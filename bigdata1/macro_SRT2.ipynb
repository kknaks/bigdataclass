{
 "cells": [
  {
   "cell_type": "code",
   "execution_count": 2,
   "metadata": {},
   "outputs": [],
   "source": [
    "from selenium import webdriver\n",
    "from selenium.webdriver.common.by import By\n",
    "from selenium.webdriver.support.ui import WebDriverWait\n",
    "from selenium.webdriver.support import expected_conditions as EC\n",
    "from selenium import webdriver\n",
    "from selenium.webdriver.common.by import By\n",
    "from selenium.webdriver.support.select import Select"
   ]
  },
  {
   "cell_type": "code",
   "execution_count": 3,
   "metadata": {},
   "outputs": [],
   "source": [
    "# -*- coding: utf-8 -*-\n",
    "driver = webdriver.Chrome(\"chromedriver\")\n",
    "driver.get('https://etk.srail.co.kr/cmc/01/selectLoginForm.do')\n",
    "driver.implicitly_wait(15)\n",
    "\n",
    "# 로그인\n",
    "driver.find_element(By.ID, 'srchDvNm01').send_keys('2193390557') # 회원번호\n",
    "driver.find_element(By.ID, 'hmpgPwdCphd01').send_keys(\"happykeon00!!\") # 비밀번호\n",
    "driver.find_element(By.XPATH, '//*[@id=\"login-form\"]/fieldset/div[1]/div[1]/div[2]/div/div[2]/input').click()\n",
    "driver.implicitly_wait(5)\n",
    "\n",
    "# 기차 조회 페이지로 이동\n",
    "driver.get('https://etk.srail.kr/hpg/hra/01/selectScheduleList.do')\n",
    "driver.implicitly_wait(5)\n",
    "\n",
    "# 출발지 입력\n",
    "dep_stn = driver.find_element(By.ID, 'dptRsStnCdNm')\n",
    "dep_stn.clear()\n",
    "dep_stn.send_keys(\"김천구미\")\n",
    "\n",
    "# 도착지 입력\n",
    "arr_stn = driver.find_element(By.ID, 'arvRsStnCdNm')\n",
    "arr_stn.clear()\n",
    "arr_stn.send_keys(\"수서\")\n",
    "\n",
    "# 출발 날짜\n",
    "elm_dptDt = driver.find_element(By.ID, \"dptDt\")\n",
    "driver.execute_script(\"arguments[0].setAttribute('style','display: True;')\", elm_dptDt)\n",
    "Select(driver.find_element(By.ID,\"dptDt\")).select_by_value(\"20221209\")\n",
    "\n",
    "# 출발 시간\n",
    "elm_dptTm = driver.find_element(By.ID, \"dptTm\")\n",
    "driver.execute_script(\"arguments[0].setAttribute('style','display: True;')\", elm_dptTm)\n",
    "Select(driver.find_element(By.ID, \"dptTm\")).select_by_visible_text(\"14\")\n",
    "\n",
    "# 조회하기 버튼 클릭\n",
    "driver.find_element(By.XPATH,\"//input[@value='조회하기']\").click()\n",
    "driver.implicitly_wait(5)"
   ]
  },
  {
   "cell_type": "code",
   "execution_count": null,
   "metadata": {},
   "outputs": [],
   "source": [
    "import time\n",
    "\n",
    "reserved = False\n",
    "\n",
    "while True:\n",
    "    standard_seat = driver.find_element(By.CSS_SELECTOR, \"#result-form > fieldset > div.tbl_wrap.th_thead > table > tbody > tr:nth-child(1) > td:nth-child(7) > a\").text\n",
    "    express_seat = driver.find_element(By.CSS_SELECTOR, \"#result-form > fieldset > div.tbl_wrap.th_thead > table > tbody > tr:nth-child(1) > td:nth-child(6) > a\").text\n",
    "\n",
    "    if \"예약하기\" in standard_seat:\n",
    "        driver.find_element(By.XPATH, \"#result-form > fieldset > div.tbl_wrap.th_thead > table > tbody > tr:nth-child(1) > td:nth-child(7) > a\").click()\n",
    "        reserved = True\n",
    "        break\n",
    "    \n",
    "    if \"예약하기\" in express_seat:\n",
    "        driver.find_element(By.XPATH, \"#result-form > fieldset > div.tbl_wrap.th_thead > table > tbody > tr:nth-child(1) > td:nth-child(6) > a\").click()\n",
    "        reserved = True\n",
    "        break\n",
    "    \n",
    "    if not reserved:\n",
    "        # 5초 기다리기\n",
    "        WebDriverWait(driver, 5).until(EC.element_to_be_clickable((By.XPATH,\"/html/body/div/div[4]/div/div[3]/div[1]/form/fieldset/div[6]/table/tbody/tr[1]/td[7]/a\" )))\n",
    "\n",
    "        \n",
    "        # 다시 조회하기\n",
    "        submit = driver.find_element(By.XPATH, \"//input[@value='조회하기']\")\n",
    "        driver.execute_script(\"arguments[0].click();\", submit)\n",
    "        # submit = driver.find_element(By.XPATH, \"/html/body/div/div[4]/div/div[2]/form/fieldset/div[2]/input\").click()\n",
    "        # print(\"새로고침\")\n",
    "\n",
    "        driver.implicitly_wait(10)\n",
    "        time.sleep(1)\n",
    "    else:\n",
    "        break"
   ]
  }
 ],
 "metadata": {
  "kernelspec": {
   "display_name": "Python 3",
   "language": "python",
   "name": "python3"
  },
  "language_info": {
   "codemirror_mode": {
    "name": "ipython",
    "version": 3
   },
   "file_extension": ".py",
   "mimetype": "text/x-python",
   "name": "python",
   "nbconvert_exporter": "python",
   "pygments_lexer": "ipython3",
   "version": "3.11.0"
  },
  "orig_nbformat": 4,
  "vscode": {
   "interpreter": {
    "hash": "1682e5d06a6d97c1b1cf6bb4ae6cf16223e994936ddb1d53664597d7d46101fa"
   }
  }
 },
 "nbformat": 4,
 "nbformat_minor": 2
}
